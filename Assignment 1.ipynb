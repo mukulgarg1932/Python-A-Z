{
 "cells": [
  {
   "cell_type": "markdown",
   "id": "e935fc40-26d0-4669-8b84-0def213f2c46",
   "metadata": {},
   "source": [
    "Q1. Create one variable containing following type of data:\n",
    "    (i) string\n",
    "    (ii) list\n",
    "    (iii) float\n",
    "    (iv) tuple\n",
    "\n",
    "\n"
   ]
  },
  {
   "cell_type": "code",
   "execution_count": 1,
   "id": "0ed344a1-241f-43de-b49c-031035e0eef7",
   "metadata": {},
   "outputs": [],
   "source": [
    "var_1 = \"Hello Mukul\"\n",
    "list_1 = [1702719,'Hello',3+7j,21.232,714482]\n",
    "var_2 = 12341.31\n",
    "mytuple = (14,4232,'fefeg')"
   ]
  },
  {
   "cell_type": "code",
   "execution_count": 2,
   "id": "ae0b282a-e105-41ae-a189-0c02e9dcbf17",
   "metadata": {},
   "outputs": [],
   "source": [
    "from IPython.core.interactiveshell import InteractiveShell\n",
    "InteractiveShell.ast_node_interactivity = \"all\""
   ]
  },
  {
   "cell_type": "code",
   "execution_count": 3,
   "id": "1b0404dc-1620-42cc-a63f-3af2b54fb33a",
   "metadata": {},
   "outputs": [
    {
     "name": "stdout",
     "output_type": "stream",
     "text": [
      "Hello Mukul\n",
      "[1702719, 'Hello', (3+7j), 21.232, 714482]\n",
      "12341.31\n",
      "(14, 4232, 'fefeg')\n"
     ]
    }
   ],
   "source": [
    "print(var_1)\n",
    "print(list_1)\n",
    "print(var_2)\n",
    "print(mytuple)\n"
   ]
  },
  {
   "cell_type": "markdown",
   "id": "37b39c1b-e51f-461f-a96a-cb4dfd501a25",
   "metadata": {},
   "source": [
    "Q2. Given are some following variables containing data:\n",
    "(i) var1 = ‘ ‘\n",
    "(ii) var2 = ‘[ DS , ML , Python]’\n",
    "(iii) var3 = [ ‘DS’ , ’ML’ , ‘Python’ ]\n",
    "(iv) var4 = 1.\n",
    "What will be the data type of the above given variable.\n",
    "\n"
   ]
  },
  {
   "cell_type": "code",
   "execution_count": 8,
   "id": "baa716bc-071e-4f7b-9043-db5109502e5e",
   "metadata": {},
   "outputs": [],
   "source": [
    "var1 = ''\n",
    "var2 = '[ DS , ML , Python]'\n",
    "var3 = [ 'DS' , 'ML', 'Python' ] \n",
    "var4 = 1"
   ]
  },
  {
   "cell_type": "code",
   "execution_count": 9,
   "id": "d21ae3bc-b41b-43ae-b3ec-c0e8f29020f1",
   "metadata": {},
   "outputs": [
    {
     "data": {
      "text/plain": [
       "str"
      ]
     },
     "execution_count": 9,
     "metadata": {},
     "output_type": "execute_result"
    },
    {
     "data": {
      "text/plain": [
       "str"
      ]
     },
     "execution_count": 9,
     "metadata": {},
     "output_type": "execute_result"
    },
    {
     "data": {
      "text/plain": [
       "list"
      ]
     },
     "execution_count": 9,
     "metadata": {},
     "output_type": "execute_result"
    },
    {
     "data": {
      "text/plain": [
       "int"
      ]
     },
     "execution_count": 9,
     "metadata": {},
     "output_type": "execute_result"
    }
   ],
   "source": [
    "type(var1)\n",
    "type(var2)\n",
    "type(var3)\n",
    "type(var4)"
   ]
  },
  {
   "cell_type": "markdown",
   "id": "b509d444-b48a-4b93-afe4-8b7a68341ec8",
   "metadata": {},
   "source": [
    "Q3. Explain the use of the following operators using an example:\n",
    "(i) /\n",
    "(ii) %\n",
    "(iii) //\n",
    "(iv) **\n"
   ]
  },
  {
   "cell_type": "code",
   "execution_count": 10,
   "id": "fc1c07bb-7ace-40c5-b672-d6b1f129f270",
   "metadata": {},
   "outputs": [
    {
     "name": "stdout",
     "output_type": "stream",
     "text": [
      "4.5\n",
      "1\n",
      "4\n",
      "81\n"
     ]
    }
   ],
   "source": [
    "a=9\n",
    "b=2\n",
    "\n",
    "# Divide operator\n",
    "print(a/b)\n",
    "\n",
    "#reminder/modulus operator\n",
    "print(a%b)\n",
    "\n",
    "# // --> it will give floor value of quoitent\n",
    "print(a//b)\n",
    "\n",
    "# ** --> power operator\n",
    "print(a**b)"
   ]
  },
  {
   "cell_type": "markdown",
   "id": "a0bcc3ca-cbfe-40be-8240-d84df3cc1804",
   "metadata": {},
   "source": [
    "Q4. Create a list of length 10 of your choice containing multiple types of data. Using for loop print the\n",
    "element and its data type.\n"
   ]
  },
  {
   "cell_type": "code",
   "execution_count": 11,
   "id": "0d8f5e9c-2511-46ef-b3e6-eb6a3cb63501",
   "metadata": {},
   "outputs": [
    {
     "data": {
      "text/plain": [
       "10"
      ]
     },
     "execution_count": 11,
     "metadata": {},
     "output_type": "execute_result"
    }
   ],
   "source": [
    "l1 = [1213,'Hello',21314,1413.2424,True,3+7j,12131,225.3546,[134,43535,46464],False]\n",
    "len(l1)"
   ]
  },
  {
   "cell_type": "code",
   "execution_count": 14,
   "id": "02e31c56-b8bf-4996-b6c5-5cec9ee1d1aa",
   "metadata": {},
   "outputs": [
    {
     "name": "stdout",
     "output_type": "stream",
     "text": [
      "1213\n",
      "<class 'int'>\n",
      "\n",
      "Hello\n",
      "<class 'str'>\n",
      "\n",
      "21314\n",
      "<class 'int'>\n",
      "\n",
      "1413.2424\n",
      "<class 'float'>\n",
      "\n",
      "True\n",
      "<class 'bool'>\n",
      "\n",
      "(3+7j)\n",
      "<class 'complex'>\n",
      "\n",
      "12131\n",
      "<class 'int'>\n",
      "\n",
      "225.3546\n",
      "<class 'float'>\n",
      "\n",
      "[134, 43535, 46464]\n",
      "<class 'list'>\n",
      "\n",
      "False\n",
      "<class 'bool'>\n",
      "\n"
     ]
    }
   ],
   "source": [
    "for i in l1:\n",
    "    print(i)\n",
    "    print(type(i))\n",
    "    print()"
   ]
  },
  {
   "cell_type": "markdown",
   "id": "e1be87fc-0966-457b-ae3a-b7b1383ce5e9",
   "metadata": {},
   "source": [
    "Q5. Using a while loop, verify if the number A is purely divisible by number B and if so then how many\n",
    "times it can be divisible.\n"
   ]
  },
  {
   "cell_type": "code",
   "execution_count": 24,
   "id": "52011dc0-984e-4ff7-8d5e-c901f9584685",
   "metadata": {},
   "outputs": [
    {
     "name": "stdin",
     "output_type": "stream",
     "text": [
      "Enter number A 48\n",
      "Enter number B 2\n"
     ]
    },
    {
     "name": "stdout",
     "output_type": "stream",
     "text": [
      "count is -- 4\n"
     ]
    }
   ],
   "source": [
    "# print(\"Enter number A\")\n",
    "a=int(input(\"Enter number A\"))\n",
    "b=int(input(\"Enter number B\"))\n",
    "\n",
    "#Counter to check \n",
    "count=0\n",
    "\n",
    "if b == 0:\n",
    "        print(\"it will give division by zero error\")\n",
    "else:\n",
    "    while a%b == 0 :\n",
    "        count += 1\n",
    "        a = a/b\n",
    "    \n",
    "if count == 0:\n",
    "    print(\"it cannot be divisible by number \" + str(b))\n",
    "else:\n",
    "    print(\"count is -- \" + str(count))"
   ]
  },
  {
   "cell_type": "markdown",
   "id": "644cf503-ab86-4d9b-9141-ac3ddbc93ee4",
   "metadata": {},
   "source": [
    "Q6.Create a list containing 25 int type data. Using for loop and if-else condition print if the element is\n",
    "divisible by 3 or not.\n",
    "\n"
   ]
  },
  {
   "cell_type": "code",
   "execution_count": 30,
   "id": "e3bc4a5c-5ab1-45c1-916d-a129a7e0fcd4",
   "metadata": {},
   "outputs": [
    {
     "name": "stdout",
     "output_type": "stream",
     "text": [
      "[0, 1, 2, 3, 4, 5, 6, 7, 8, 9, 10, 11, 12, 13, 14, 15, 16, 17, 18, 19, 20, 21, 22, 23, 24]\n",
      "\n",
      "0 divisible by 3\n",
      "\n",
      "1 is not divisible by 3\n",
      "\n",
      "2 is not divisible by 3\n",
      "\n",
      "3 divisible by 3\n",
      "\n",
      "4 is not divisible by 3\n",
      "\n",
      "5 is not divisible by 3\n",
      "\n",
      "6 divisible by 3\n",
      "\n",
      "7 is not divisible by 3\n",
      "\n",
      "8 is not divisible by 3\n",
      "\n",
      "9 divisible by 3\n",
      "\n",
      "10 is not divisible by 3\n",
      "\n",
      "11 is not divisible by 3\n",
      "\n",
      "12 divisible by 3\n",
      "\n",
      "13 is not divisible by 3\n",
      "\n",
      "14 is not divisible by 3\n",
      "\n",
      "15 divisible by 3\n",
      "\n",
      "16 is not divisible by 3\n",
      "\n",
      "17 is not divisible by 3\n",
      "\n",
      "18 divisible by 3\n",
      "\n",
      "19 is not divisible by 3\n",
      "\n",
      "20 is not divisible by 3\n",
      "\n",
      "21 divisible by 3\n",
      "\n",
      "22 is not divisible by 3\n",
      "\n",
      "23 is not divisible by 3\n",
      "\n",
      "24 divisible by 3\n",
      "\n"
     ]
    }
   ],
   "source": [
    "l1 = list(range(25))\n",
    "print(l1)\n",
    "print()\n",
    "for i in l1:\n",
    "    if i%3 == 0:\n",
    "        print (str(i) + \" divisible by 3\")\n",
    "        print()\n",
    "    else:\n",
    "        print (str(i) + \" is not divisible by 3\")\n",
    "        print()"
   ]
  },
  {
   "cell_type": "markdown",
   "id": "b70af0c7-b0e3-4492-aa9d-4e1508b34998",
   "metadata": {},
   "source": [
    "Q7. What do you understand about mutable and immutable data types? Give examples for both showing\n",
    "this property."
   ]
  },
  {
   "cell_type": "code",
   "execution_count": 33,
   "id": "e0c8260b-4a8d-4b6d-b2eb-5c83dcd0527e",
   "metadata": {},
   "outputs": [
    {
     "name": "stdout",
     "output_type": "stream",
     "text": [
      "MYWAY\n",
      "\n",
      "[1, 2, 'Hello']\n"
     ]
    }
   ],
   "source": [
    "str1 = \"MYWAY\"\n",
    "list1 = [1,2,'Hello']\n",
    "print(str1)\n",
    "print()\n",
    "print(list1)"
   ]
  },
  {
   "cell_type": "code",
   "execution_count": 36,
   "id": "9d4ea404-5383-44ce-92f1-90072ad3d52d",
   "metadata": {},
   "outputs": [
    {
     "name": "stdout",
     "output_type": "stream",
     "text": [
      "[1, 2, 'Mukul', 1414, 1414]\n",
      "[1, 2, 'Mukul', 1414, 1414, 1414]\n"
     ]
    }
   ],
   "source": [
    "list1[2]=\"Mukul\"\n",
    "print(list1)\n",
    "list1.append(1414)\n",
    "print(list1)\n",
    "\n",
    "#Here above we can see that we can change the index values of list  means list is mutable object "
   ]
  },
  {
   "cell_type": "code",
   "execution_count": 37,
   "id": "acfe7be1-b05a-4438-98d9-1fdfd73efa90",
   "metadata": {},
   "outputs": [
    {
     "name": "stdout",
     "output_type": "stream",
     "text": [
      "<class 'str'>\n",
      "Y\n"
     ]
    },
    {
     "ename": "TypeError",
     "evalue": "'type' object does not support item assignment",
     "output_type": "error",
     "traceback": [
      "\u001b[0;31m---------------------------------------------------------------------------\u001b[0m",
      "\u001b[0;31mTypeError\u001b[0m                                 Traceback (most recent call last)",
      "Cell \u001b[0;32mIn[37], line 3\u001b[0m\n\u001b[1;32m      1\u001b[0m \u001b[38;5;28mprint\u001b[39m(\u001b[38;5;28mstr\u001b[39m)\n\u001b[1;32m      2\u001b[0m \u001b[38;5;28mprint\u001b[39m(str1[\u001b[38;5;241m1\u001b[39m])\n\u001b[0;32m----> 3\u001b[0m \u001b[38;5;28;43mstr\u001b[39;49m\u001b[43m[\u001b[49m\u001b[38;5;241;43m1\u001b[39;49m\u001b[43m]\u001b[49m\u001b[38;5;241m=\u001b[39m\u001b[38;5;124m'\u001b[39m\u001b[38;5;124mA\u001b[39m\u001b[38;5;124m'\u001b[39m\n",
      "\u001b[0;31mTypeError\u001b[0m: 'type' object does not support item assignment"
     ]
    }
   ],
   "source": [
    "print(str)\n",
    "print(str1[1])\n",
    "str[1]='A'"
   ]
  },
  {
   "cell_type": "code",
   "execution_count": null,
   "id": "d4dfe280-e05d-4d5e-9c4b-f0077e1dff86",
   "metadata": {},
   "outputs": [],
   "source": [
    "#Here in above output we can see tha"
   ]
  }
 ],
 "metadata": {
  "kernelspec": {
   "display_name": "Python 3 (ipykernel)",
   "language": "python",
   "name": "python3"
  },
  "language_info": {
   "codemirror_mode": {
    "name": "ipython",
    "version": 3
   },
   "file_extension": ".py",
   "mimetype": "text/x-python",
   "name": "python",
   "nbconvert_exporter": "python",
   "pygments_lexer": "ipython3",
   "version": "3.10.8"
  }
 },
 "nbformat": 4,
 "nbformat_minor": 5
}
