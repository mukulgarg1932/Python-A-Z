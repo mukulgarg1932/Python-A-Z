{
 "cells": [
  {
   "cell_type": "code",
   "execution_count": 7,
   "id": "dee1136b-2163-4125-a3c4-575e3c3fc187",
   "metadata": {},
   "outputs": [],
   "source": [
    "from IPython.core.interactiveshell import InteractiveShell\n",
    "InteractiveShell.ast_node_interactivity = \"all\""
   ]
  },
  {
   "cell_type": "markdown",
   "id": "d79095ee-b5a7-40c6-a48d-9d188758ce20",
   "metadata": {},
   "source": [
    "Q1. Explain Class and Object with respect to Object-Oriented Programming. Give a suitable example."
   ]
  },
  {
   "cell_type": "markdown",
   "id": "d852452b-2e22-465a-b0d1-1e04bf4f65b7",
   "metadata": {},
   "source": [
    "In order to solve real world problems , we have to represent the real world entities into the world of programming language\n",
    "\n",
    "Real world entities\n",
    "\t• Living Entities -- Human, animal etc\n",
    "\t• Non-living Entities -- chair, table, room etc\n",
    "\n",
    "Programming Paradigm -- Object Oriented Programming\n",
    "\n",
    "\tObject is one thing that represents real world entities into the world of programming language\n",
    "\tObject is core of OOP\n",
    "    Object will have state as well as behavior\n",
    "    \n",
    "Class -- Classification of real world entity\n",
    "\t  -- it's a template or we can say it's a blueprint\n",
    "\t\n",
    "Object -- real world entity\n",
    "        -- instance of a class "
   ]
  },
  {
   "cell_type": "code",
   "execution_count": 8,
   "id": "0996df09-dc35-453f-98da-ce5379ccee9b",
   "metadata": {},
   "outputs": [],
   "source": [
    "#Example \n",
    "\n",
    "class Person:\n",
    "    def __init__(self,name,age,gender):\n",
    "        self.name=name\n",
    "        self.__age=age\n",
    "        self.gender=gender\n",
    "        \n",
    "    def person_details(self):\n",
    "        if self.gender=='M':\n",
    "            print(f\"Hello, Mr.{self.name}\")\n",
    "        else:\n",
    "            print(f\"Hello, Mrs.{self.name}\")\n",
    "        \n",
    "        print(f\"{self.name} is {self.__age} years old\")\n",
    "        print(\"---------------------------------------\")\n",
    "        "
   ]
  },
  {
   "cell_type": "code",
   "execution_count": 9,
   "id": "41358c93-75ac-41ff-bbdf-1e616a9fab45",
   "metadata": {},
   "outputs": [],
   "source": [
    "obj1=Person('Anikate Garg',12,'M')\n",
    "obj2=Person('Cherry Garg',23,'F')\n"
   ]
  },
  {
   "cell_type": "code",
   "execution_count": 10,
   "id": "e25956bb-1a42-448b-b924-2fbec39854c5",
   "metadata": {},
   "outputs": [
    {
     "name": "stdout",
     "output_type": "stream",
     "text": [
      "Hello, Mr.Anikate Garg\n",
      "Anikate Garg is 12 years old\n",
      "---------------------------------------\n",
      "Hello, Mrs.Cherry Garg\n",
      "Cherry Garg is 23 years old\n",
      "---------------------------------------\n"
     ]
    }
   ],
   "source": [
    "obj1.person_details()\n",
    "obj2.person_details()"
   ]
  },
  {
   "cell_type": "markdown",
   "id": "da5a9d7a-ae25-476a-9e67-ac198087ade1",
   "metadata": {},
   "source": [
    "Q2. Name the four pillars of OOPs."
   ]
  },
  {
   "cell_type": "markdown",
   "id": "33dddc9e-06af-4b3f-ad1b-2a470c4a0cf9",
   "metadata": {},
   "source": [
    "Four Pillars in OOPs are \n",
    "\n",
    "    1.Abstraction\n",
    "    2.Encapsulation\n",
    "    3.Polymorphism\n",
    "    4.Inheritance\n",
    "    \n",
    "1.Abstraction -- \n",
    "    Abstraction in python is defined as a process of handling complexity by hiding unnecessary information from the user.\n",
    "    This is one of the core concepts of object-oriented programming (OOP) languages. That enables the user to implement even more complex\n",
    "    logic on top of the provided abstraction without understanding or even thinking about all the hidden background/back-end complexity.\n",
    "    \n",
    "     In Python, abstraction can be achieved by having/using abstract classes and methods in our programs.\n",
    "        \n",
    "2.Encapsulation --\n",
    "\n",
    "    Encapsulation is one of the cornerstone concepts of OOP. \n",
    "    The basic idea of Encapsulation is to wrap up both data and methods into one single unit.\n",
    "    With the help of Encapsulation we can make sure that no one should be allowed to change the state of object directly\n",
    "    \n",
    "3.Polymorphism\n",
    "\n",
    "    Poly -- means many\n",
    "    Morphism -- means forms\n",
    "    \n",
    "def add(a,b):\n",
    "    return a+b\n",
    "\n",
    "    This above function behaves differently if we pass string paramaters to it and it will ebhave differently \n",
    "    if we have pass parameter of different data type\n",
    "\n",
    "4.Inhertiance\n",
    "\n",
    "    Inheritance is the ability to ‘inherit’ features or attributes from already written classes into newer classes we make. \n",
    "     It promotes code reusability, which is considered one of the best industrial coding practices as it makes the codebase modular.\n",
    "     new class/es inherits from older class/es. The new class/es copies all the older classes functions and attributes without rewriting the syntax in the new class/es. These new classes are called derived classes, and old ones are called base classes."
   ]
  },
  {
   "cell_type": "markdown",
   "id": "3f1a0fb5-b5f1-4ac5-a407-7aaa1bc312c2",
   "metadata": {},
   "source": []
  },
  {
   "cell_type": "markdown",
   "id": "5dc9f112-b42c-4b9b-b1a3-eae695dd87f6",
   "metadata": {},
   "source": [
    "Q3. Explain why the __init__() function is used. Give a suitable example."
   ]
  },
  {
   "cell_type": "markdown",
   "id": "956575e7-5f36-4545-a9e6-9e6b100198a8",
   "metadata": {},
   "source": [
    "The __init__ method is the Python equivalent of the C++ constructor in an object-oriented approach. The __init__ function is called every time an object is created from a class. The __init__ method lets the class initialize the object's attributes and serves no other purpose. It is only used within classes"
   ]
  },
  {
   "cell_type": "code",
   "execution_count": 11,
   "id": "cee58803-4221-438e-bc20-a20fd285921b",
   "metadata": {},
   "outputs": [],
   "source": [
    "class vehicle:\n",
    "    def __init__(self,name,model):\n",
    "        self.name=name\n",
    "        self.model=model\n",
    "    \n",
    "    def show_vehicle_details(self):\n",
    "        print(f\"vehicle name -- {self.name}\")\n",
    "        print(f\"vehicle model -- {self.model}\")"
   ]
  },
  {
   "cell_type": "code",
   "execution_count": 12,
   "id": "b1977ca9-b1fa-4fba-89f9-aa5786646aa3",
   "metadata": {},
   "outputs": [
    {
     "name": "stdout",
     "output_type": "stream",
     "text": [
      "vehicle name -- Mercedes\n",
      "vehicle model -- 2023\n"
     ]
    }
   ],
   "source": [
    "obj1=vehicle('Mercedes','2023')\n",
    "obj1.show_vehicle_details()"
   ]
  },
  {
   "cell_type": "markdown",
   "id": "18f557e6-1a59-4ba4-be64-0aa78cd6266a",
   "metadata": {},
   "source": [
    "Q4. Why self is used in OOPs?"
   ]
  },
  {
   "cell_type": "markdown",
   "id": "ea146a66-f23b-4af3-b39d-d9b10ab8a4a3",
   "metadata": {},
   "source": [
    "In object-oriented programming, whenever we define methods for a class, we use self as the first parameter in each case\n",
    " The use of self makes it easier to distinguish between instance attributes (and methods) from local variables."
   ]
  },
  {
   "cell_type": "code",
   "execution_count": 13,
   "id": "3055d626-ab1e-4c05-aa07-188328ab4a8a",
   "metadata": {},
   "outputs": [],
   "source": [
    "class Cat:\n",
    "    def __init__(self, name, age):\n",
    "        self.name = name\n",
    "        self.age = age\n",
    "\n",
    "    def info(self):\n",
    "        print(f\"I am a cat. My name is {self.name}. I am {self.age} years old.\")\n",
    "\n",
    "    def make_sound(self):\n",
    "        print(\"Meow\")"
   ]
  },
  {
   "cell_type": "code",
   "execution_count": 14,
   "id": "617db669-3653-4292-9936-685f773b4799",
   "metadata": {},
   "outputs": [],
   "source": [
    "cat1 = Cat('Andy', 2)\n",
    "cat2 = Cat('Phoebe', 3)"
   ]
  },
  {
   "cell_type": "markdown",
   "id": "25553b79-e892-4d1e-95ae-94eb444d10bc",
   "metadata": {},
   "source": [
    "The self keyword is used to represent an instance (object) of the given class. In this case, the two Cat objects cat1 and cat2 have their own name and age attributes. If there was no self argument, the same class couldn't hold the information for both these objects.\n",
    "\n",
    "However, since the class is just a blueprint, self allows access to the attributes and methods of each object in python. This allows each object to have its own attributes and methods. Thus, even long before creating these objects, we reference the objects as self while defining the class."
   ]
  },
  {
   "cell_type": "markdown",
   "id": "1a2d63bf-b314-4ba1-bdb8-9ccad592cbb8",
   "metadata": {},
   "source": [
    "Q5. What is inheritance? Give an example for each type of inheritance."
   ]
  },
  {
   "cell_type": "markdown",
   "id": "95c10f2e-3d64-430c-a144-68eb59117dd3",
   "metadata": {},
   "source": [
    "Inheritance is the ability to ‘inherit’ features or attributes from already written classes into newer classes we make. \n",
    "It promotes code reusability, which is considered one of the best industrial coding practices as it makes the codebase module\n",
    "In Python inheritance, new class/es inherits from older class/es. The new class/es copies all the older class's functions and attributes without rewriting the syntax in the new class/es. These new classes are called derived classes, and old ones are called base classes.\n",
    "Types of Inheritance\n",
    "\n",
    "Single Inheritance in Python\n",
    "Single Inheritance is the simplest form of inheritance where a single child class is derived from a single parent class. Due to its candid nature, it is also known as Simple Inheritance."
   ]
  },
  {
   "cell_type": "code",
   "execution_count": 15,
   "id": "728024b9-d34e-40e0-9699-bf4af593589c",
   "metadata": {},
   "outputs": [
    {
     "name": "stdout",
     "output_type": "stream",
     "text": [
      "Hello Parent\n",
      "Hello Child\n"
     ]
    }
   ],
   "source": [
    "class parent:                  # parent class\n",
    "    def func1(self):\n",
    "        print(\"Hello Parent\")\n",
    " \n",
    "class child(parent):    \n",
    "  # child class\n",
    "    def func2(self):                 # we include the parent class\n",
    "        print(\"Hello Child\")   # as an argument in the child\n",
    "                               # class\n",
    " \n",
    "# Driver Code\n",
    "test = child()                 # object created\n",
    "test.func1()                   # parent method called via child object\n",
    "test.func2()                   # child method called"
   ]
  },
  {
   "cell_type": "markdown",
   "id": "65bab9ad-8e05-4fb3-a8ba-107b157059cd",
   "metadata": {},
   "source": [
    "Multiple Inheritance in Python\n",
    "In multiple inheritance, a single child class is inherited from two or more parent classes. It means the child class has access to all the parent classes' methods and attributes.\n",
    "\n",
    "However, if two parents have the same “named” methods, the child class performs the method of the first parent in order of reference."
   ]
  },
  {
   "cell_type": "code",
   "execution_count": 16,
   "id": "3d7e6152-c914-4cfd-8cb2-74d4b95a69f1",
   "metadata": {},
   "outputs": [
    {
     "name": "stdout",
     "output_type": "stream",
     "text": [
      "Hello Parent1\n",
      "Hello Parent2\n",
      "Hello Child\n"
     ]
    }
   ],
   "source": [
    "# multiple inheritance example\n",
    " \n",
    "class parent1:                     # first parent class\n",
    "    def func1(self):                   \n",
    "        print(\"Hello Parent1\")\n",
    " \n",
    "class parent2:                     # second parent class\n",
    "    def func2(self):                   \n",
    "        print(\"Hello Parent2\")\n",
    " \n",
    "class parent3:                     # third parent class\n",
    "    def func2(self):                     # the function name is same as parent2\n",
    "        print(\"Hello Parent3\")\n",
    " \n",
    "class child(parent1, parent2, parent3):     # child class\n",
    "    def func3(self):                     # we include the parent classes\n",
    "        print(\"Hello Child\")       # as an argument comma separated\n",
    "                           \n",
    "# Driver Code\n",
    "test = child()        # object created\n",
    "test.func1()          # parent1 method called via child\n",
    "test.func2()          # parent2 method called via child instead of parent3\n",
    "test.func3()          # child method called"
   ]
  },
  {
   "cell_type": "markdown",
   "id": "ef3a7805-0588-438d-bb83-c613e6413e93",
   "metadata": {},
   "source": [
    "Multilevel Inheritance in Python\n",
    "In multilevel inheritance, we go beyond just a parent-child relation. We introduce grandchildren, great-grandchildren, grandparents, etc. We have seen only two levels of inheritance with a superior parent class/es and a derived class/es, but here we can have multiple levels where the parent class/es itself is derived from another class/es."
   ]
  },
  {
   "cell_type": "code",
   "execution_count": 17,
   "id": "1424fc80-edf8-4757-bb9a-33cfb265e074",
   "metadata": {},
   "outputs": [
    {
     "name": "stdout",
     "output_type": "stream",
     "text": [
      "Hello Grandparent\n",
      "Hello Parent\n",
      "Hello Child\n"
     ]
    }
   ],
   "source": [
    "class grandparent:                 # first level\n",
    "    def func1(self):                   \n",
    "        print(\"Hello Grandparent\")\n",
    " \n",
    "class parent(grandparent):         # second level\n",
    "    def func2(self):                   \n",
    "        print(\"Hello Parent\")\n",
    " \n",
    "class child(parent):               # third level\n",
    "    def func3(self):                   \n",
    "        print(\"Hello Child\")   \n",
    "                               \n",
    " \n",
    "# Driver Code\n",
    "test = child()                     # object created\n",
    "test.func1()                       # 3rd level calls 1st level\n",
    "test.func2()                       # 3rd level calls 2nd level\n",
    "test.func3()                       # 3rd level calls 3rd level\n"
   ]
  },
  {
   "cell_type": "markdown",
   "id": "8efda33d-10a1-4454-b50e-3585744c0cdc",
   "metadata": {},
   "source": [
    "Hierarchical Inheritance in Python\n",
    "Hierarchical Inheritance is the right opposite of multiple inheritance. It means that there are multiple derived child classes from a single-parent class."
   ]
  },
  {
   "cell_type": "code",
   "execution_count": 18,
   "id": "a2ea8e5a-025a-4d0f-8a72-6806a7fa5671",
   "metadata": {},
   "outputs": [
    {
     "name": "stdout",
     "output_type": "stream",
     "text": [
      "Hello Parent\n",
      "Hello Child1\n",
      "Hello Parent\n",
      "Hello Child2\n"
     ]
    }
   ],
   "source": [
    "# python 3 syntax\n",
    "# hierarchical inheritance example\n",
    " \n",
    "class parent:                       # parent class\n",
    "    def func1(self):                   \n",
    "        print(\"Hello Parent\")\n",
    " \n",
    "class child1(parent):               # first child class\n",
    "    def func2(self):                   \n",
    "        print(\"Hello Child1\")\n",
    " \n",
    " \n",
    "class child2(parent):               # second child class\n",
    "    def func3(self):                   \n",
    "        print(\"Hello Child2\")   \n",
    "                               \n",
    " \n",
    "# Driver Code\n",
    "test1 = child1()                     # objects created\n",
    "test2 = child2() \n",
    " \n",
    "test1.func1()                       # child1 calling parent method\n",
    "test1.func2()                       # child1 calling its own method\n",
    " \n",
    "test2.func1()                       # child2 calling parent method\n",
    "test2.func3()                       # child2 calling its own method\n"
   ]
  },
  {
   "cell_type": "markdown",
   "id": "abdfbf61-4dac-4d06-be63-c3889b754676",
   "metadata": {},
   "source": [
    "Hybrid Inheritance in Python\n",
    "Hybrid Inheritance is the mixture of two or more different types of inheritance. Here we can have many relationships between parent and child classes with multiple levels."
   ]
  },
  {
   "cell_type": "code",
   "execution_count": 19,
   "id": "780d22d6-e43a-40a0-892f-ad0933b87f06",
   "metadata": {},
   "outputs": [
    {
     "name": "stdout",
     "output_type": "stream",
     "text": [
      "Hello Parent\n",
      "Hello Child1\n",
      "Hello Parent\n",
      "Hello Parent\n",
      "Hello Child1\n",
      "Hello Child2\n"
     ]
    }
   ],
   "source": [
    "# python 3 syntax\n",
    "# hybrid inheritance example\n",
    " \n",
    "class parent1:                            # first parent class\n",
    "    def func1(self):                   \n",
    "        print(\"Hello Parent\")\n",
    " \n",
    " \n",
    "class parent2:                            # second parent class\n",
    "    def func2(self):                   \n",
    "        print(\"Hello Parent\")\n",
    " \n",
    "class child1(parent1):                    # first child class\n",
    "    def func3(self):                   \n",
    "        print(\"Hello Child1\")\n",
    " \n",
    " \n",
    "class child2(child1, parent2):            # second child class\n",
    "    def func4(self):                   \n",
    "        print(\"Hello Child2\")   \n",
    "                               \n",
    " \n",
    "# Driver Code\n",
    "test1 = child1()                          # object created\n",
    "test2 = child2()\n",
    " \n",
    "test1.func1()                       # child1 calling parent1 method\n",
    "test1.func3()                       # child1 calling its own method\n",
    " \n",
    "test2.func1()                       # child2 calling parent1 method\n",
    "test2.func2()                       # child2 calling parent2 method\n",
    "test2.func3()                       # child2 calling child1 method\n",
    "test2.func4()                       # child2 calling its own method\n"
   ]
  },
  {
   "cell_type": "code",
   "execution_count": null,
   "id": "63a48aa1-baeb-4d2e-b1a6-14450bd489cc",
   "metadata": {},
   "outputs": [],
   "source": []
  }
 ],
 "metadata": {
  "kernelspec": {
   "display_name": "Python 3 (ipykernel)",
   "language": "python",
   "name": "python3"
  },
  "language_info": {
   "codemirror_mode": {
    "name": "ipython",
    "version": 3
   },
   "file_extension": ".py",
   "mimetype": "text/x-python",
   "name": "python",
   "nbconvert_exporter": "python",
   "pygments_lexer": "ipython3",
   "version": "3.10.8"
  }
 },
 "nbformat": 4,
 "nbformat_minor": 5
}
