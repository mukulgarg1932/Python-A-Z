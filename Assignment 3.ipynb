{
 "cells": [
  {
   "cell_type": "markdown",
   "id": "c20ae540-fe4d-473a-8d32-2d54614a72e0",
   "metadata": {},
   "source": [
    "Q1. Which keyword is used to create a function? Create a function to return a list of odd numbers in the\n",
    "range of 1 to 25."
   ]
  },
  {
   "cell_type": "code",
   "execution_count": 1,
   "id": "5404bc11-8b84-4b70-99e0-a3157e169227",
   "metadata": {},
   "outputs": [
    {
     "data": {
      "text/plain": [
       "'def keyword is used create a function followed by function name\\nsyntax \\ndef fun_name():\\n    body of the function'"
      ]
     },
     "execution_count": 1,
     "metadata": {},
     "output_type": "execute_result"
    }
   ],
   "source": [
    "\"\"\"def keyword is used create a function followed by function name\n",
    "syntax \n",
    "def fun_name():\n",
    "    body of the function\"\"\"\n",
    "    \n",
    "    "
   ]
  },
  {
   "cell_type": "code",
   "execution_count": 2,
   "id": "a598bb87-ec7e-4caf-a601-cae97824e857",
   "metadata": {},
   "outputs": [],
   "source": [
    "def odd_numbers(num):\n",
    "    l=[]\n",
    "    for i in range(1,num+1):\n",
    "        if i%2 != 0:\n",
    "            l.append(i)\n",
    "            \n",
    "    return l       \n",
    "    "
   ]
  },
  {
   "cell_type": "code",
   "execution_count": 3,
   "id": "e1eea3e3-fd1e-473e-8fc7-4b110ef62d8c",
   "metadata": {},
   "outputs": [],
   "source": [
    "from IPython.core.interactiveshell import InteractiveShell\n",
    "InteractiveShell.ast_node_interactivity = \"all\""
   ]
  },
  {
   "cell_type": "code",
   "execution_count": 4,
   "id": "e9b01c46-77b3-46d6-ba08-46eebdd695c2",
   "metadata": {},
   "outputs": [
    {
     "data": {
      "text/plain": [
       "list"
      ]
     },
     "execution_count": 4,
     "metadata": {},
     "output_type": "execute_result"
    },
    {
     "data": {
      "text/plain": [
       "[1, 3, 5, 7, 9, 11, 13, 15, 17, 19, 21, 23, 25]"
      ]
     },
     "execution_count": 4,
     "metadata": {},
     "output_type": "execute_result"
    }
   ],
   "source": [
    "type(odd_numbers(25))\n",
    "odd_numbers(25)"
   ]
  },
  {
   "cell_type": "markdown",
   "id": "0297551a-3a46-4f11-a7f0-d9e79d0429f6",
   "metadata": {},
   "source": [
    "Q2. Why *args and **kwargs is used in some functions? Create a function each for *args and **kwargs\n",
    "to demonstrate their use.Why *args and **kwargs is used in some functions? Create a function each for *args and **kwargs to demonstrate their use."
   ]
  },
  {
   "cell_type": "markdown",
   "id": "f641bb8f-b38a-46b2-a005-1720f503d74f",
   "metadata": {},
   "source": [
    "Solution -\n",
    "\n",
    "1.args is used when we want to pass multiple parameter to our function as input and we are not certain about how many\n",
    "parameters we will passing while calling the function in that case we use *args\n",
    "\n",
    "2.In Python, we can pass a variable number of arguments to a function using special symbols. There are two special symbols:\n",
    "*args (Non Keyword Arguments)\n",
    "**kwargs (Keyword Arguments)\n",
    "We use *args and **kwargs as an argument when we are unsure about the number of arguments(parameters) to pass in the functions.\n",
    "\n",
    "3.Python passes variable length non keyword argument to function using *args but we cannot use this to pass keyword argument.\n",
    "4.For this problem Python has got a solution called **kwargs, it allows us to pass the variable length of keyword arguments to the function.\n",
    "\n",
    "5.we use the double asterisk ** before the parameter name to denote this type of argument. The arguments are passed as a dictionary and these arguments make a dictionary inside function with name same as the parameter excluding double asterisk **."
   ]
  },
  {
   "cell_type": "code",
   "execution_count": 5,
   "id": "2902ec65-03e6-4c2b-a815-c103089e8986",
   "metadata": {},
   "outputs": [],
   "source": [
    "def adder (*nums):\n",
    "    sum=0\n",
    "    for i in nums:\n",
    "        sum += i\n",
    "        \n",
    "    return sum"
   ]
  },
  {
   "cell_type": "code",
   "execution_count": 6,
   "id": "a3465f3f-e84d-4b2f-a08f-c531d1627b89",
   "metadata": {},
   "outputs": [
    {
     "data": {
      "text/plain": [
       "5"
      ]
     },
     "execution_count": 6,
     "metadata": {},
     "output_type": "execute_result"
    },
    {
     "data": {
      "text/plain": [
       "37"
      ]
     },
     "execution_count": 6,
     "metadata": {},
     "output_type": "execute_result"
    },
    {
     "data": {
      "text/plain": [
       "283"
      ]
     },
     "execution_count": 6,
     "metadata": {},
     "output_type": "execute_result"
    },
    {
     "data": {
      "text/plain": [
       "17622"
      ]
     },
     "execution_count": 6,
     "metadata": {},
     "output_type": "execute_result"
    }
   ],
   "source": [
    "adder(2,3)\n",
    "adder(2,32,3)\n",
    "adder(13,13,234,23)\n",
    "adder(2,13132,4,242,4242)"
   ]
  },
  {
   "cell_type": "code",
   "execution_count": 7,
   "id": "a134be80-9644-491d-add6-93276fee874a",
   "metadata": {},
   "outputs": [],
   "source": [
    "def student_details(**kwargs):\n",
    "    for k,v in kwargs.items():\n",
    "        print(f\"{k} --> {v}\")"
   ]
  },
  {
   "cell_type": "code",
   "execution_count": 8,
   "id": "f6e0cc4e-5323-44ad-b4cf-0da448c1ee8a",
   "metadata": {},
   "outputs": [
    {
     "name": "stdout",
     "output_type": "stream",
     "text": [
      "Name --> Mukul\n",
      "email --> mukulgarg1932@gmail.com\n",
      "roll_no --> 1702719\n",
      "gender --> M\n",
      "\n",
      "Name --> Sourav\n",
      "email --> souravLNU@gmail.com\n",
      "roll_no --> 1702439\n",
      "gender --> M\n",
      "cell_no --> 468464646646\n"
     ]
    }
   ],
   "source": [
    "student_details(Name='Mukul',email=\"mukulgarg1932@gmail.com\",roll_no=1702719,gender='M')\n",
    "print()\n",
    "student_details(Name='Sourav',email=\"souravLNU@gmail.com\",roll_no=1702439,gender='M',cell_no=468464646646)\n"
   ]
  },
  {
   "cell_type": "raw",
   "id": "226b8aef-f6b9-4e9c-bf03-b2ef6a76f462",
   "metadata": {},
   "source": []
  },
  {
   "cell_type": "markdown",
   "id": "4e89bffa-8963-410c-9277-794b897249e4",
   "metadata": {},
   "source": [
    "Q3. What is an iterator in python? Name the method used to initialise the iterator object and the method\n",
    "used for iteration. Use these methods to print the first five elements of the given list [2, 4, 6, 8, 10, 12, 14,\n",
    "16, 18, 20]."
   ]
  },
  {
   "cell_type": "code",
   "execution_count": 9,
   "id": "bf7c47ac-cb18-48df-b24d-d781ccf62092",
   "metadata": {},
   "outputs": [],
   "source": [
    "# Iterable is an object, that one can iterate over\n",
    "# An iterator is also an object, which is used to iterate over an iterable object using the __next__() method. \n",
    "# Iterable object generates an Iterator when passed to iter() method.\n",
    "\n",
    "# Note: Every iterator is also an iterable, but not every iterable is an iterator in Python.\n",
    "# Iter() method is used to initialize the iterator object so that the instance of this object can be used for iterating"
   ]
  },
  {
   "cell_type": "code",
   "execution_count": 10,
   "id": "55a4383d-10ad-4011-a4ef-8b8b7a051cc1",
   "metadata": {},
   "outputs": [],
   "source": [
    "lst =  [2, 4, 6, 8, 10, 12, 14, 16, 18, 20]\n"
   ]
  },
  {
   "cell_type": "code",
   "execution_count": 11,
   "id": "fd5db750-e07d-4b48-ba1e-d3ec9a4a18ed",
   "metadata": {},
   "outputs": [
    {
     "data": {
      "text/plain": [
       "list"
      ]
     },
     "execution_count": 11,
     "metadata": {},
     "output_type": "execute_result"
    },
    {
     "data": {
      "text/plain": [
       "list_iterator"
      ]
     },
     "execution_count": 11,
     "metadata": {},
     "output_type": "execute_result"
    }
   ],
   "source": [
    "type(lst)\n",
    "# right now we can't iterate over list using next() method as list is an iterable object but not an iterator\n",
    "lst=iter(lst)\n",
    "type(lst)"
   ]
  },
  {
   "cell_type": "code",
   "execution_count": 12,
   "id": "4fedbba1-cbc8-4abe-b904-71c8f561bba5",
   "metadata": {},
   "outputs": [
    {
     "name": "stdout",
     "output_type": "stream",
     "text": [
      "2\n",
      "4\n",
      "6\n",
      "8\n",
      "10\n"
     ]
    }
   ],
   "source": [
    "print(next(lst))\n",
    "print(next(lst))\n",
    "print(next(lst))\n",
    "print(next(lst))\n",
    "print(next(lst))"
   ]
  },
  {
   "cell_type": "markdown",
   "id": "8ed6bd2d-e429-4b2c-8a57-0ce3b81b0784",
   "metadata": {},
   "source": [
    "Q4. What is a generator function in python? Why yield keyword is used? Give an example of a generator\n",
    "function."
   ]
  },
  {
   "cell_type": "code",
   "execution_count": 13,
   "id": "b0f3be79-e737-4adf-9d54-6fd4004af470",
   "metadata": {},
   "outputs": [
    {
     "data": {
      "text/plain": [
       "\"\\nIterable -- is an object \\nGenerator -- it's a special function in python which uses yield keyword\\ngenerator is a function that returns an iterator that produces a sequence of values when iterated over\\n\\nIn Python, similar to defining a normal function, we can define a generator function using the def keyword,\\nbut instead of the return statement we use the yield statement.\\n If the body of a def contains yield, the function automatically becomes a generator function. \\n \\nThe yield keyword is used to produce a value from the generator and pause the generator function's execution until the next value is requested.\\n\\nWhen the generator function is called, it does not execute the function body immediately. \\nInstead, it returns a generator object that can be iterated over to produce the values.\\n\""
      ]
     },
     "execution_count": 13,
     "metadata": {},
     "output_type": "execute_result"
    }
   ],
   "source": [
    "\"\"\"\n",
    "Iterable -- is an object \n",
    "Generator -- it's a special function in python which uses yield keyword\n",
    "generator is a function that returns an iterator that produces a sequence of values when iterated over\n",
    "\n",
    "In Python, similar to defining a normal function, we can define a generator function using the def keyword,\n",
    "but instead of the return statement we use the yield statement.\n",
    " If the body of a def contains yield, the function automatically becomes a generator function. \n",
    " \n",
    "The yield keyword is used to produce a value from the generator and pause the generator function's execution until the next value is requested.\n",
    "\n",
    "When the generator function is called, it does not execute the function body immediately. \n",
    "Instead, it returns a generator object that can be iterated over to produce the values.\n",
    "\"\"\""
   ]
  },
  {
   "cell_type": "code",
   "execution_count": 14,
   "id": "7fef58d6-642b-4135-bb64-38f38b4d4860",
   "metadata": {},
   "outputs": [],
   "source": [
    "def factorial(num):\n",
    "    res=1\n",
    "    if num<1:\n",
    "        return res\n",
    "    for i in range(1,num+1):\n",
    "        res=res*i\n",
    "    return res\n",
    "\n",
    "def factorial_genrator():\n",
    "    num=1\n",
    "    while True:\n",
    "        fact = factorial(num)\n",
    "        yield fact\n",
    "        num = num+1"
   ]
  },
  {
   "cell_type": "code",
   "execution_count": 15,
   "id": "05c1ac67-8200-45a2-93e4-ad710ab2b252",
   "metadata": {},
   "outputs": [
    {
     "data": {
      "text/plain": [
       "generator"
      ]
     },
     "execution_count": 15,
     "metadata": {},
     "output_type": "execute_result"
    },
    {
     "name": "stdout",
     "output_type": "stream",
     "text": [
      "1\n",
      "2\n",
      "6\n",
      "24\n",
      "120\n",
      "720\n",
      "5040\n",
      "40320\n",
      "362880\n",
      "3628800\n"
     ]
    }
   ],
   "source": [
    "generator = factorial_genrator()\n",
    "type(generator)\n",
    "\n",
    "for i in range(10):\n",
    "    print(next(generator))"
   ]
  },
  {
   "cell_type": "code",
   "execution_count": null,
   "id": "d44df59a-f76f-4eac-88dd-3677807c038b",
   "metadata": {},
   "outputs": [],
   "source": []
  },
  {
   "cell_type": "markdown",
   "id": "8695e687-97f3-49df-bfb8-a1144273c5d2",
   "metadata": {},
   "source": [
    "Q5. Create a generator function for prime numbers less than 1000. Use the next() method to print the\n",
    "first 20 prime numbers."
   ]
  },
  {
   "cell_type": "code",
   "execution_count": 16,
   "id": "bcc0e0db-aef1-40d1-9490-eab0911f2db2",
   "metadata": {},
   "outputs": [],
   "source": [
    "def is_prime(num):\n",
    "    if num<2:\n",
    "        return False\n",
    "    for i in range(2,int(num**0.5)):\n",
    "        if num%i==0:\n",
    "            return False\n",
    "    return True"
   ]
  },
  {
   "cell_type": "code",
   "execution_count": 17,
   "id": "4b2a6551-ca41-4a7d-a826-ca90db20d148",
   "metadata": {},
   "outputs": [
    {
     "data": {
      "text/plain": [
       "True"
      ]
     },
     "execution_count": 17,
     "metadata": {},
     "output_type": "execute_result"
    },
    {
     "data": {
      "text/plain": [
       "True"
      ]
     },
     "execution_count": 17,
     "metadata": {},
     "output_type": "execute_result"
    },
    {
     "data": {
      "text/plain": [
       "False"
      ]
     },
     "execution_count": 17,
     "metadata": {},
     "output_type": "execute_result"
    },
    {
     "data": {
      "text/plain": [
       "False"
      ]
     },
     "execution_count": 17,
     "metadata": {},
     "output_type": "execute_result"
    },
    {
     "data": {
      "text/plain": [
       "False"
      ]
     },
     "execution_count": 17,
     "metadata": {},
     "output_type": "execute_result"
    }
   ],
   "source": [
    "is_prime(2)\n",
    "is_prime(13)\n",
    "is_prime(1341)\n",
    "is_prime(213)\n",
    "is_prime(22)"
   ]
  },
  {
   "cell_type": "code",
   "execution_count": 18,
   "id": "d9766e5c-f9c4-41cc-9848-18e0fcf695a8",
   "metadata": {},
   "outputs": [],
   "source": [
    "def prime_num_generator():\n",
    "    num=2\n",
    "    while True:\n",
    "        if is_prime(num):\n",
    "            yield num\n",
    "        num=num+1\n",
    "        "
   ]
  },
  {
   "cell_type": "code",
   "execution_count": 19,
   "id": "a4cb8dd1-3d7b-4167-bc83-f5df6e37ca81",
   "metadata": {},
   "outputs": [
    {
     "data": {
      "text/plain": [
       "generator"
      ]
     },
     "execution_count": 19,
     "metadata": {},
     "output_type": "execute_result"
    },
    {
     "data": {
      "text/plain": [
       "generator"
      ]
     },
     "execution_count": 19,
     "metadata": {},
     "output_type": "execute_result"
    }
   ],
   "source": [
    "type(prime_num_generator())\n",
    "gen=prime_num_generator()\n",
    "type(gen)"
   ]
  },
  {
   "cell_type": "code",
   "execution_count": 20,
   "id": "8b1e6d5f-2b32-4487-94b6-c6025362d23b",
   "metadata": {},
   "outputs": [
    {
     "name": "stdout",
     "output_type": "stream",
     "text": [
      "2\n",
      "3\n",
      "4\n",
      "5\n",
      "6\n",
      "7\n",
      "8\n",
      "9\n",
      "11\n",
      "13\n"
     ]
    }
   ],
   "source": [
    "for i in range(10):\n",
    "    print(next(gen))"
   ]
  },
  {
   "cell_type": "markdown",
   "id": "842ecb22-d05d-4f67-98cf-607be16c237b",
   "metadata": {},
   "source": [
    "Q6. Write a python program to print the first 10 Fibonacci numbers using a while loop."
   ]
  },
  {
   "cell_type": "code",
   "execution_count": 21,
   "id": "a8b6af8c-bc22-4793-a208-cadb615d1b27",
   "metadata": {},
   "outputs": [
    {
     "name": "stdout",
     "output_type": "stream",
     "text": [
      "0\n",
      "1\n",
      "1\n",
      "2\n",
      "3\n",
      "5\n",
      "8\n",
      "13\n",
      "21\n",
      "34\n"
     ]
    }
   ],
   "source": [
    "num=0\n",
    "a,b=0,1\n",
    "while (num<10):\n",
    "    print(a)\n",
    "    a,b = b, a+b\n",
    "    num += 1\n",
    "    "
   ]
  },
  {
   "cell_type": "markdown",
   "id": "5fc7adf5-fb16-47ed-98a8-8f40304b2354",
   "metadata": {},
   "source": [
    "Q7. Write a List Comprehension to iterate through the given string: ‘pwskills’.\n",
    "Expected output: ['p', 'w', 's', 'k', 'i', 'l', 'l', 's']"
   ]
  },
  {
   "cell_type": "code",
   "execution_count": 22,
   "id": "d669cce4-b05f-4f4b-8584-38013bf46330",
   "metadata": {},
   "outputs": [
    {
     "name": "stdout",
     "output_type": "stream",
     "text": [
      "['p', 'w', 's', 'k', 'i', 'l', 'l', 's']\n"
     ]
    }
   ],
   "source": [
    "# Iterating through a string Using for Loop\n",
    "s = \"pwskills\"\n",
    "l=[]\n",
    "for i in s:\n",
    "    l.append(i)\n",
    "    \n",
    "print(l)"
   ]
  },
  {
   "cell_type": "code",
   "execution_count": 23,
   "id": "13765d53-95d7-438c-b894-51bd3f82fec0",
   "metadata": {},
   "outputs": [
    {
     "data": {
      "text/plain": [
       "['p', 'w', 's', 'k', 'i', 'l', 'l', 's']"
      ]
     },
     "execution_count": 23,
     "metadata": {},
     "output_type": "execute_result"
    }
   ],
   "source": [
    " # Iterating through a string Using List Comprehension\n",
    "    # Syntax -- [expression for item in list]\n",
    "lst = [letter for letter in \"pwskills\"]\n",
    "lst"
   ]
  },
  {
   "cell_type": "markdown",
   "id": "46bfe055-0fc6-42da-bc76-5d31807bab8a",
   "metadata": {},
   "source": [
    "Q8. Write a python program to check whether a given number is Palindrome or not using a while loop."
   ]
  },
  {
   "cell_type": "code",
   "execution_count": 24,
   "id": "a04c7305-fccd-453e-9b3d-a105de492cc7",
   "metadata": {},
   "outputs": [],
   "source": [
    "# palindrome is number that remains same when its digits are reversed\n",
    "\n",
    "\n",
    "def check_palindrome(num):\n",
    "    rev_num= str(num)\n",
    "    rev_num = int(rev_num[::-1])\n",
    "    # print(rev_num)\n",
    "    \n",
    "    if (num == rev_num):\n",
    "         print(f\"{num} is a plaindrome number\")\n",
    "    else:\n",
    "         print(f\"{num} is a not plaindrome number\")\n",
    "            \n",
    "def checkPalindrome(original):\n",
    "    reverseNum = 0\n",
    "    tempOriginal = original\n",
    "\n",
    "    while (tempOriginal > 0):\n",
    "        lastDigit = tempOriginal % 10\n",
    "        reverseNum = reverseNum * 10 + lastDigit\n",
    "        tempOriginal = tempOriginal / 10\n",
    "\n",
    "    if (original == reverseNum):\n",
    "         print(f\"{original} is a plaindrome number\")\n",
    "    else:\n",
    "         print(f\"{original} is a not plaindrome number\")"
   ]
  },
  {
   "cell_type": "code",
   "execution_count": 25,
   "id": "1b3d714c-bc01-4247-84d5-6cef21675b9d",
   "metadata": {},
   "outputs": [
    {
     "name": "stdout",
     "output_type": "stream",
     "text": [
      "121 is a plaindrome number\n",
      "1862 is a not plaindrome number\n",
      "15351 is a plaindrome number\n",
      "1001 is a plaindrome number\n"
     ]
    }
   ],
   "source": [
    "# num = int(input(\"Enter a number of your choice :\"))\n",
    "check_palindrome(121)\n",
    "check_palindrome(1862)\n",
    "check_palindrome(15351)\n",
    "check_palindrome(1001)"
   ]
  },
  {
   "cell_type": "markdown",
   "id": "2bccbf50-0278-4a73-850b-a36e19816de4",
   "metadata": {},
   "source": [
    "Q9. Write a code to print odd numbers from 1 to 100 using list comprehension.\n",
    "Note: Use a list comprehension to create a list from 1 to 100 and use another List comprehension to filter\n",
    "out odd numbers."
   ]
  },
  {
   "cell_type": "code",
   "execution_count": 26,
   "id": "b01d986f-f967-47a2-8739-b4d61bfcca56",
   "metadata": {},
   "outputs": [
    {
     "data": {
      "text/plain": [
       "[1,\n",
       " 2,\n",
       " 3,\n",
       " 4,\n",
       " 5,\n",
       " 6,\n",
       " 7,\n",
       " 8,\n",
       " 9,\n",
       " 10,\n",
       " 11,\n",
       " 12,\n",
       " 13,\n",
       " 14,\n",
       " 15,\n",
       " 16,\n",
       " 17,\n",
       " 18,\n",
       " 19,\n",
       " 20,\n",
       " 21,\n",
       " 22,\n",
       " 23,\n",
       " 24,\n",
       " 25,\n",
       " 26,\n",
       " 27,\n",
       " 28,\n",
       " 29,\n",
       " 30,\n",
       " 31,\n",
       " 32,\n",
       " 33,\n",
       " 34,\n",
       " 35,\n",
       " 36,\n",
       " 37,\n",
       " 38,\n",
       " 39,\n",
       " 40,\n",
       " 41,\n",
       " 42,\n",
       " 43,\n",
       " 44,\n",
       " 45,\n",
       " 46,\n",
       " 47,\n",
       " 48,\n",
       " 49,\n",
       " 50,\n",
       " 51,\n",
       " 52,\n",
       " 53,\n",
       " 54,\n",
       " 55,\n",
       " 56,\n",
       " 57,\n",
       " 58,\n",
       " 59,\n",
       " 60,\n",
       " 61,\n",
       " 62,\n",
       " 63,\n",
       " 64,\n",
       " 65,\n",
       " 66,\n",
       " 67,\n",
       " 68,\n",
       " 69,\n",
       " 70,\n",
       " 71,\n",
       " 72,\n",
       " 73,\n",
       " 74,\n",
       " 75,\n",
       " 76,\n",
       " 77,\n",
       " 78,\n",
       " 79,\n",
       " 80,\n",
       " 81,\n",
       " 82,\n",
       " 83,\n",
       " 84,\n",
       " 85,\n",
       " 86,\n",
       " 87,\n",
       " 88,\n",
       " 89,\n",
       " 90,\n",
       " 91,\n",
       " 92,\n",
       " 93,\n",
       " 94,\n",
       " 95,\n",
       " 96,\n",
       " 97,\n",
       " 98,\n",
       " 99,\n",
       " 100]"
      ]
     },
     "execution_count": 26,
     "metadata": {},
     "output_type": "execute_result"
    }
   ],
   "source": [
    "lst = [digit for digit in range(1,101)]\n",
    "lst"
   ]
  },
  {
   "cell_type": "code",
   "execution_count": 27,
   "id": "940a9b61-c9ad-4569-8693-c78c24441f9d",
   "metadata": {},
   "outputs": [
    {
     "data": {
      "text/plain": [
       "[1,\n",
       " 3,\n",
       " 5,\n",
       " 7,\n",
       " 9,\n",
       " 11,\n",
       " 13,\n",
       " 15,\n",
       " 17,\n",
       " 19,\n",
       " 21,\n",
       " 23,\n",
       " 25,\n",
       " 27,\n",
       " 29,\n",
       " 31,\n",
       " 33,\n",
       " 35,\n",
       " 37,\n",
       " 39,\n",
       " 41,\n",
       " 43,\n",
       " 45,\n",
       " 47,\n",
       " 49,\n",
       " 51,\n",
       " 53,\n",
       " 55,\n",
       " 57,\n",
       " 59,\n",
       " 61,\n",
       " 63,\n",
       " 65,\n",
       " 67,\n",
       " 69,\n",
       " 71,\n",
       " 73,\n",
       " 75,\n",
       " 77,\n",
       " 79,\n",
       " 81,\n",
       " 83,\n",
       " 85,\n",
       " 87,\n",
       " 89,\n",
       " 91,\n",
       " 93,\n",
       " 95,\n",
       " 97,\n",
       " 99]"
      ]
     },
     "execution_count": 27,
     "metadata": {},
     "output_type": "execute_result"
    }
   ],
   "source": [
    "lst2 = list(filter(lambda x : x%2 != 0 , lst))\n",
    "lst2"
   ]
  },
  {
   "cell_type": "code",
   "execution_count": null,
   "id": "0cb8737e-204e-4d24-b6c0-6a4ac58af84e",
   "metadata": {},
   "outputs": [],
   "source": []
  }
 ],
 "metadata": {
  "kernelspec": {
   "display_name": "Python 3 (ipykernel)",
   "language": "python",
   "name": "python3"
  },
  "language_info": {
   "codemirror_mode": {
    "name": "ipython",
    "version": 3
   },
   "file_extension": ".py",
   "mimetype": "text/x-python",
   "name": "python",
   "nbconvert_exporter": "python",
   "pygments_lexer": "ipython3",
   "version": "3.10.8"
  }
 },
 "nbformat": 4,
 "nbformat_minor": 5
}
