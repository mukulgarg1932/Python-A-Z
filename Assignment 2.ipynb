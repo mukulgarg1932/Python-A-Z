{
 "cells": [
  {
   "cell_type": "markdown",
   "id": "f1f8c23a-7233-49dd-9fc6-05ca12011bda",
   "metadata": {},
   "source": [
    "Q1. How do you comment code in Python? What are the different types of comments?\n"
   ]
  },
  {
   "cell_type": "code",
   "execution_count": 1,
   "id": "7e0786fa-1728-4ee0-9370-3495cc596676",
   "metadata": {},
   "outputs": [
    {
     "data": {
      "text/plain": [
       "'Multi - line comments starts with triple double quotes and ends with triple double quotes\\nwe can assign multi line comments to variable then we can use that variable as string'"
      ]
     },
     "execution_count": 1,
     "metadata": {},
     "output_type": "execute_result"
    }
   ],
   "source": [
    "# Single line Comments\n",
    "\n",
    "\"\"\"Multi - line comments starts with triple double quotes and ends with triple double quotes\n",
    "we can assign multi line comments to variable then we can use that variable as string\"\"\""
   ]
  },
  {
   "cell_type": "code",
   "execution_count": 2,
   "id": "4b80cba8-4f33-47f6-b366-d5f9206871b9",
   "metadata": {},
   "outputs": [
    {
     "data": {
      "text/plain": [
       "'\\nThis is a comment\\nwritten in\\nmore than just one line\\n'"
      ]
     },
     "execution_count": 2,
     "metadata": {},
     "output_type": "execute_result"
    }
   ],
   "source": [
    "\"\"\"\n",
    "This is a comment\n",
    "written in\n",
    "more than just one line\n",
    "\"\"\""
   ]
  },
  {
   "cell_type": "markdown",
   "id": "ac0cff3d-a044-450d-aa92-f54c571f245c",
   "metadata": {},
   "source": [
    "Q2. What are variables in Python? How do you declare and assign values to variables?\n"
   ]
  },
  {
   "cell_type": "code",
   "execution_count": 5,
   "id": "4da5df92-c5f1-45da-97e4-6b149ee21b7b",
   "metadata": {},
   "outputs": [
    {
     "name": "stdout",
     "output_type": "stream",
     "text": [
      "3\n",
      "12.3\n",
      "False\n",
      "(23+32j)\n"
     ]
    },
    {
     "data": {
      "text/plain": [
       "int"
      ]
     },
     "execution_count": 5,
     "metadata": {},
     "output_type": "execute_result"
    },
    {
     "data": {
      "text/plain": [
       "float"
      ]
     },
     "execution_count": 5,
     "metadata": {},
     "output_type": "execute_result"
    },
    {
     "data": {
      "text/plain": [
       "bool"
      ]
     },
     "execution_count": 5,
     "metadata": {},
     "output_type": "execute_result"
    },
    {
     "data": {
      "text/plain": [
       "complex"
      ]
     },
     "execution_count": 5,
     "metadata": {},
     "output_type": "execute_result"
    }
   ],
   "source": [
    "\n",
    "from IPython.core.interactiveshell import InteractiveShell\n",
    "InteractiveShell.ast_node_interactivity = \"all\"\n",
    "#variables are just like containers which we can use to store different type of data in it \n",
    "# dpeneding on type of data it stored , type of variable is decided\n",
    "\n",
    "var_1 =3\n",
    "var_2=12.3\n",
    "var_3=False\n",
    "var_4=23+32j\n",
    "\n",
    "print(var_1)\n",
    "print(var_2)\n",
    "print(var_3)\n",
    "print(var_4)\n",
    "\n",
    "type(var_1)\n",
    "type(var_2)\n",
    "type(var_3)\n",
    "type(var_4)\n"
   ]
  },
  {
   "cell_type": "markdown",
   "id": "f80ac16f-4344-4fa4-b02f-9473c63d5278",
   "metadata": {},
   "source": [
    "Q3.How do you convert one data type to another in Python?\n"
   ]
  },
  {
   "cell_type": "code",
   "execution_count": 6,
   "id": "274e5e8a-af26-4e3c-8b32-207128230ff4",
   "metadata": {},
   "outputs": [
    {
     "data": {
      "text/plain": [
       "int"
      ]
     },
     "execution_count": 6,
     "metadata": {},
     "output_type": "execute_result"
    },
    {
     "data": {
      "text/plain": [
       "str"
      ]
     },
     "execution_count": 6,
     "metadata": {},
     "output_type": "execute_result"
    }
   ],
   "source": [
    "#converting a one data type into other data type is called typecasting\n",
    "\n",
    "a = 3\n",
    "type(3)\n",
    "\n",
    "a = str(2) #converting a int data type to string data type\n",
    "type(a)\n",
    "\n"
   ]
  },
  {
   "cell_type": "markdown",
   "id": "417ee771-0ef9-4c0d-ae82-ea7e6814964e",
   "metadata": {},
   "source": [
    "Q5. Given a list my_list = [1, 2, 3, 4, 5], write the code to slice the list and obtain the sub-list [2, 3].\n"
   ]
  },
  {
   "cell_type": "code",
   "execution_count": 11,
   "id": "f78cf3fe-9a70-41a0-ad7b-8133b2057772",
   "metadata": {},
   "outputs": [
    {
     "data": {
      "text/plain": [
       "[1, 2, 3, 4, 5]"
      ]
     },
     "execution_count": 11,
     "metadata": {},
     "output_type": "execute_result"
    },
    {
     "data": {
      "text/plain": [
       "[2, 3]"
      ]
     },
     "execution_count": 11,
     "metadata": {},
     "output_type": "execute_result"
    },
    {
     "data": {
      "text/plain": [
       "[2, 3]"
      ]
     },
     "execution_count": 11,
     "metadata": {},
     "output_type": "execute_result"
    }
   ],
   "source": [
    "my_list = [1, 2, 3, 4, 5]\n",
    "\n",
    "my_list\n",
    "\n",
    "#first way\n",
    "sub_list1 = my_list[1:3]\n",
    "sub_list1\n",
    "sub_list2 = my_list[my_list.index(2):my_list.index(3)+1]\n",
    "\n",
    "sub_list2"
   ]
  },
  {
   "cell_type": "markdown",
   "id": "bf36b9b8-ceb6-47d2-b524-4916fdd90715",
   "metadata": {},
   "source": [
    "Q6.What is a complex number in mathematics, and how is it represented in Python?\n"
   ]
  },
  {
   "cell_type": "code",
   "execution_count": 12,
   "id": "50aa3a75-5fbb-43ee-8469-97b711eb3a8b",
   "metadata": {},
   "outputs": [
    {
     "data": {
      "text/plain": [
       "(2+3j)"
      ]
     },
     "execution_count": 12,
     "metadata": {},
     "output_type": "execute_result"
    },
    {
     "data": {
      "text/plain": [
       "complex"
      ]
     },
     "execution_count": 12,
     "metadata": {},
     "output_type": "execute_result"
    }
   ],
   "source": [
    "# complex number is a number which has real part as well as imaginary part \n",
    "c= 2+3j\n",
    "c\n",
    "type(c)"
   ]
  },
  {
   "cell_type": "markdown",
   "id": "c7096a3e-0fc5-4534-93c2-7d27537b11b0",
   "metadata": {},
   "source": [
    "Q7.What is the correct way to declare a variable named age and assign the value 25 to it?\n"
   ]
  },
  {
   "cell_type": "code",
   "execution_count": 13,
   "id": "d89cfd21-e37e-4978-b998-1756c0769311",
   "metadata": {},
   "outputs": [
    {
     "data": {
      "text/plain": [
       "25"
      ]
     },
     "execution_count": 13,
     "metadata": {},
     "output_type": "execute_result"
    },
    {
     "name": "stdin",
     "output_type": "stream",
     "text": [
      "Please Enter your age :  25\n"
     ]
    },
    {
     "name": "stdout",
     "output_type": "stream",
     "text": [
      "your age is 25\n"
     ]
    }
   ],
   "source": [
    "# assignign value to age varible manually\n",
    "age=25\n",
    "age\n",
    "\n",
    "#taking input from user for age variable\n",
    "age=int(input(\"Please Enter your age : \"))\n",
    "print(f\"your age is {age}\")"
   ]
  },
  {
   "cell_type": "markdown",
   "id": "b116e445-6bf8-40f2-958b-bdef4fb49d71",
   "metadata": {},
   "source": [
    "Q8. Declare a variable named price and assign the value 9.99 to it. What data type does this variable\n",
    "belong to?\n"
   ]
  },
  {
   "cell_type": "code",
   "execution_count": 14,
   "id": "602ac05e-74e9-49a6-801e-470f48bbe14a",
   "metadata": {},
   "outputs": [
    {
     "data": {
      "text/plain": [
       "float"
      ]
     },
     "execution_count": 14,
     "metadata": {},
     "output_type": "execute_result"
    }
   ],
   "source": [
    "price = 9.99\n",
    "type(price)"
   ]
  },
  {
   "cell_type": "markdown",
   "id": "9e7ab6d1-07aa-4269-b2bb-301f4140f42c",
   "metadata": {},
   "source": [
    "Q9. Create a variable named name and assign your full name to it as a string. How would you print the\n",
    "value of this variable?\n"
   ]
  },
  {
   "cell_type": "code",
   "execution_count": 15,
   "id": "a8ae1b07-f34b-4a9c-b0fc-3500e9d26126",
   "metadata": {},
   "outputs": [
    {
     "name": "stdout",
     "output_type": "stream",
     "text": [
      "Mukul Garg\n",
      "\n"
     ]
    },
    {
     "data": {
      "text/plain": [
       "'Mukul Garg'"
      ]
     },
     "execution_count": 15,
     "metadata": {},
     "output_type": "execute_result"
    }
   ],
   "source": [
    "name = \"Mukul Garg\"\n",
    "print(name) #one way\n",
    "\n",
    "print()\n",
    "\n",
    "name #second way"
   ]
  },
  {
   "cell_type": "markdown",
   "id": "8079b9a9-6a31-4437-a2b8-d45276e56237",
   "metadata": {},
   "source": [
    "Q10. Given the string \"Hello, World!\", extract the substring \"World\".\n"
   ]
  },
  {
   "cell_type": "code",
   "execution_count": 16,
   "id": "bf230e58-4ac7-4636-b9f6-fb24c9944316",
   "metadata": {},
   "outputs": [
    {
     "data": {
      "text/plain": [
       "'Hello, World!'"
      ]
     },
     "execution_count": 16,
     "metadata": {},
     "output_type": "execute_result"
    }
   ],
   "source": [
    "s = \"Hello, World!\"\n",
    "s"
   ]
  },
  {
   "cell_type": "code",
   "execution_count": 17,
   "id": "b435f2d7-91b9-45cb-9b0c-1220dda4b64d",
   "metadata": {},
   "outputs": [
    {
     "data": {
      "text/plain": [
       "7"
      ]
     },
     "execution_count": 17,
     "metadata": {},
     "output_type": "execute_result"
    }
   ],
   "source": [
    "s.find('World')"
   ]
  },
  {
   "cell_type": "code",
   "execution_count": 18,
   "id": "78a304cf-7fe7-48ce-bb7f-26826bccaaab",
   "metadata": {},
   "outputs": [
    {
     "data": {
      "text/plain": [
       "7"
      ]
     },
     "execution_count": 18,
     "metadata": {},
     "output_type": "execute_result"
    },
    {
     "data": {
      "text/plain": [
       "12"
      ]
     },
     "execution_count": 18,
     "metadata": {},
     "output_type": "execute_result"
    }
   ],
   "source": [
    "start = s.find('World')\n",
    "start\n",
    "end = s.find('World')+ len('World')\n",
    "end"
   ]
  },
  {
   "cell_type": "code",
   "execution_count": 20,
   "id": "7242fe48-0a03-4ad8-9390-7b77d85ec9b3",
   "metadata": {},
   "outputs": [
    {
     "data": {
      "text/plain": [
       "'World'"
      ]
     },
     "execution_count": 20,
     "metadata": {},
     "output_type": "execute_result"
    }
   ],
   "source": [
    "s[start:end]"
   ]
  },
  {
   "cell_type": "markdown",
   "id": "2e002f06-1223-49fa-b8bb-b3d048ef6cc0",
   "metadata": {},
   "source": [
    "Q11. Create a variable named \"is_student\" and assign it a boolean value indicating whether you are\n",
    "currently a student or not."
   ]
  },
  {
   "cell_type": "code",
   "execution_count": 21,
   "id": "d0769763-e26f-4409-8e5f-3571647df652",
   "metadata": {},
   "outputs": [
    {
     "name": "stdout",
     "output_type": "stream",
     "text": [
      "You're cuurently a student\n"
     ]
    }
   ],
   "source": [
    "is_student = True\n",
    "\n",
    "if is_student == True :\n",
    "    print(\"You're cuurently a student\")\n",
    "else:\n",
    "    print(\"You're cuurently not a student\")"
   ]
  },
  {
   "cell_type": "markdown",
   "id": "6978db0a-f1c2-4429-b242-6b526d3ef1fb",
   "metadata": {},
   "source": [
    "Q4. How do you write and execute a Python script from the command line?\n"
   ]
  },
  {
   "cell_type": "code",
   "execution_count": 1,
   "id": "a2ad3d36-f82f-40e4-9875-df3e16c71e96",
   "metadata": {},
   "outputs": [
    {
     "data": {
      "text/plain": [
       "'In order to execute python code in the terminal , first we need to download and install python executable on our system \\nthen we can put our code inside text file and name it with .py extension (example - my_file.py)\\nthen use below command to execute python code\\npython file_name\\nex -- python my_file.py\\n'"
      ]
     },
     "execution_count": 1,
     "metadata": {},
     "output_type": "execute_result"
    }
   ],
   "source": [
    "#we execute a python code in jupyter notebook using shift+ enter\n",
    "\"\"\"In order to execute python code in the terminal , first we need to download and install python executable on our system \n",
    "then we can put our code inside text file and name it with .py extension (example - my_file.py)\n",
    "then use below command to execute python code\n",
    "python file_name\n",
    "ex -- python my_file.py\n",
    "\"\"\""
   ]
  },
  {
   "cell_type": "code",
   "execution_count": null,
   "id": "5babffe9-71b9-4eef-a330-52e862b97e5c",
   "metadata": {},
   "outputs": [],
   "source": []
  }
 ],
 "metadata": {
  "kernelspec": {
   "display_name": "Python 3 (ipykernel)",
   "language": "python",
   "name": "python3"
  },
  "language_info": {
   "codemirror_mode": {
    "name": "ipython",
    "version": 3
   },
   "file_extension": ".py",
   "mimetype": "text/x-python",
   "name": "python",
   "nbconvert_exporter": "python",
   "pygments_lexer": "ipython3",
   "version": "3.10.8"
  }
 },
 "nbformat": 4,
 "nbformat_minor": 5
}
