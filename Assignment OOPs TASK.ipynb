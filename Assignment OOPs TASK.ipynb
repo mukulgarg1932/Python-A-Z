{
 "cells": [
  {
   "cell_type": "code",
   "execution_count": 2,
   "id": "aa150260-8a84-4a35-85c6-6bd8a0f217f0",
   "metadata": {},
   "outputs": [],
   "source": [
    "from IPython.core.interactiveshell import InteractiveShell\n",
    "InteractiveShell.ast_node_interactivity = \"all\""
   ]
  },
  {
   "cell_type": "markdown",
   "id": "18336fd1-3f5b-4ff5-ae0e-135c824d1992",
   "metadata": {},
   "source": [
    "Q1, Create a vehicle class with an init method having instance variables as name_of_vehicle, max_speed\n",
    "and average_of_vehicle."
   ]
  },
  {
   "cell_type": "code",
   "execution_count": 3,
   "id": "3ae624f6-4699-4953-9919-3e535325d16c",
   "metadata": {},
   "outputs": [],
   "source": [
    "class vehicle:\n",
    "    def __init__(self,name_of_vehicle,max_speed,avergae_of_vehicle):\n",
    "        self.__name_of_vehicle=name_of_vehicle\n",
    "        self.__max_speed=max_speed\n",
    "        self.__avergae_of_vehicle=avergae_of_vehicle\n",
    "     \n",
    "    def get_vehicle_name(self):\n",
    "        return self.__name_of_vehicle\n",
    "    def get_vehicle_max_speed(self):\n",
    "        return self.__max_speed\n",
    "    def get_average(self):\n",
    "        return self.avergae_of_vehicle\n",
    "    \n",
    "    def vehicle_details(self):\n",
    "        print(f\"Name of Vehicle -- {self.__name_of_vehicle}\")\n",
    "        print(f\"Maximum speed of vehicle -- {self.__max_speed}\")\n",
    "        print(f\"avergae of vehicle -- {self.__avergae_of_vehicle}\")"
   ]
  },
  {
   "cell_type": "code",
   "execution_count": 4,
   "id": "250963b6-0e40-4329-8b52-db1d9629553a",
   "metadata": {},
   "outputs": [
    {
     "name": "stdout",
     "output_type": "stream",
     "text": [
      "Name of Vehicle -- MT15\n",
      "Maximum speed of vehicle -- 160\n",
      "avergae of vehicle -- 40\n"
     ]
    }
   ],
   "source": [
    "obj = vehicle(\"MT15\",160,40)\n",
    "obj.vehicle_details()"
   ]
  },
  {
   "cell_type": "markdown",
   "id": "5b52c6a0-4446-4712-a6e5-37700b2928f8",
   "metadata": {},
   "source": [
    "Q2. Create a child class car from the vehicle class created in Que 1, which will inherit the vehicle class.\n",
    "Create a method named seating_capacity which takes capacity as an argument and returns the name of\n",
    "the vehicle and its seating capacity."
   ]
  },
  {
   "cell_type": "code",
   "execution_count": 5,
   "id": "e73a8d43-a53b-4e44-a55d-4666b591f403",
   "metadata": {},
   "outputs": [],
   "source": [
    "class car(vehicle):\n",
    "    def seating_capacity(self,capacity):\n",
    "        self.capacity=capacity\n",
    "        print(f\"Name of the Vehicle is -- {self.get_vehicle_name()}\")\n",
    "        print(f\"Seating capicity is -- {self.capacity}\")"
   ]
  },
  {
   "cell_type": "code",
   "execution_count": 6,
   "id": "56f10c9f-99b7-4a61-b656-4a0249804701",
   "metadata": {},
   "outputs": [],
   "source": [
    "car_object = car(\"SWIFT\",200,18)"
   ]
  },
  {
   "cell_type": "code",
   "execution_count": 7,
   "id": "d14867a4-336d-42a4-9049-0f548269cce9",
   "metadata": {},
   "outputs": [
    {
     "name": "stdout",
     "output_type": "stream",
     "text": [
      "Name of the Vehicle is -- SWIFT\n",
      "Seating capicity is -- 5\n"
     ]
    }
   ],
   "source": [
    "car_object.seating_capacity(5)"
   ]
  },
  {
   "cell_type": "markdown",
   "id": "9d5bf884-d571-4d2d-b941-35a03e3ce302",
   "metadata": {},
   "source": [
    "Q3. What is multiple inheritance? Write a python code to demonstrate multiple inheritance."
   ]
  },
  {
   "cell_type": "code",
   "execution_count": 8,
   "id": "874a7ab8-0398-4fe0-8483-2474156de02f",
   "metadata": {},
   "outputs": [
    {
     "data": {
      "text/plain": [
       "'Multilevel Inheritance in Python is a type of Inheritance that involves inheriting a class that has already inherited some other\\nclass. That means the derived/subclass class inherits the features of the base class/parent class,and the new derived class \\ninherits the features of the derived class '"
      ]
     },
     "execution_count": 8,
     "metadata": {},
     "output_type": "execute_result"
    }
   ],
   "source": [
    "\"\"\"Multilevel Inheritance in Python is a type of Inheritance that involves inheriting a class that has already inherited some other\n",
    "class. That means the derived/subclass class inherits the features of the base class/parent class,and the new derived class \n",
    "inherits the features of the derived class \"\"\""
   ]
  },
  {
   "cell_type": "code",
   "execution_count": 9,
   "id": "0eda2f07-d0ed-4ba5-93a8-9414933a08bd",
   "metadata": {},
   "outputs": [],
   "source": [
    "class class1:\n",
    "    def test_class1(self):\n",
    "        print(\"this is function of class1\")\n",
    "        \n",
    "class class2(class1):\n",
    "    def test_class2(self):\n",
    "        print(\"this is function of class2\")\n",
    "        \n",
    "class class3(class2):\n",
    "    pass"
   ]
  },
  {
   "cell_type": "code",
   "execution_count": 10,
   "id": "91d67ff7-31b8-4ffd-bbe2-9aa694d46f0e",
   "metadata": {},
   "outputs": [],
   "source": [
    "obj_class3= class3()"
   ]
  },
  {
   "cell_type": "code",
   "execution_count": 11,
   "id": "b15ea01c-f82a-4928-8c13-b9ac91fa050b",
   "metadata": {},
   "outputs": [
    {
     "name": "stdout",
     "output_type": "stream",
     "text": [
      "this is function of class1\n",
      "this is function of class2\n"
     ]
    }
   ],
   "source": [
    "obj_class3.test_class1()\n",
    "obj_class3.test_class2()"
   ]
  },
  {
   "cell_type": "markdown",
   "id": "cd086108-a8a8-4674-8a32-6fd64da4b36c",
   "metadata": {},
   "source": [
    "Q4. What are getter and setter in python? Create a class and create a getter and a setter method in this\n",
    "class."
   ]
  },
  {
   "cell_type": "markdown",
   "id": "b5920018-3514-4e4b-85c6-b86f54f6e944",
   "metadata": {},
   "source": [
    "For the purpose of data encapsulation, most object oriented languages use getters and setters method. This is because we want to hide the attributes of a object class from other classes so that no accidental modification of the data happens by methods in other classes.\n",
    "\n",
    "As the name suggests, getters are the methods which help access the private attributes or get the value of the private attributes and setters are the methods which help change or set the value of private attributes."
   ]
  },
  {
   "cell_type": "code",
   "execution_count": 15,
   "id": "40844986-4d04-4596-86ff-86ae2184daf2",
   "metadata": {},
   "outputs": [],
   "source": [
    "class employee:\n",
    "    def __init__(self,name,gender,number):\n",
    "        self.__name=name\n",
    "        self.__gender=gender\n",
    "        self.__number=number\n",
    "        \n",
    "    def show_details(self):\n",
    "        print(f\"Name is -> {self.__name}\")\n",
    "        print(f\"Numbe is -> {self.__number}\")\n",
    "    @property    \n",
    "    def access_number(self):\n",
    "        return self.__number\n",
    "    \n",
    "    @access_number.setter\n",
    "    def set_number(self,new_one):\n",
    "        self.__number=new_one\n",
    "    \n",
    "    "
   ]
  },
  {
   "cell_type": "code",
   "execution_count": 16,
   "id": "fb58836f-7c13-4a63-b027-7f2cbd161e6a",
   "metadata": {},
   "outputs": [
    {
     "name": "stdout",
     "output_type": "stream",
     "text": [
      "Name is -> Mukul Garg\n",
      "Numbe is -> 7508355456\n"
     ]
    }
   ],
   "source": [
    "obj=employee(\"Mukul Garg\",'M',7508355456)\n",
    "obj.show_details()"
   ]
  },
  {
   "cell_type": "code",
   "execution_count": 17,
   "id": "3d454690-35e3-4c15-b00e-871d437ed886",
   "metadata": {},
   "outputs": [
    {
     "data": {
      "text/plain": [
       "7508355456"
      ]
     },
     "execution_count": 17,
     "metadata": {},
     "output_type": "execute_result"
    }
   ],
   "source": [
    "obj.access_number"
   ]
  },
  {
   "cell_type": "code",
   "execution_count": 18,
   "id": "550298ed-2949-4742-87a9-525948e5e257",
   "metadata": {},
   "outputs": [],
   "source": [
    "obj.set_number = 8699842643"
   ]
  },
  {
   "cell_type": "code",
   "execution_count": 19,
   "id": "87cf7051-302a-4120-b842-78eb4d665fc5",
   "metadata": {},
   "outputs": [
    {
     "data": {
      "text/plain": [
       "8699842643"
      ]
     },
     "execution_count": 19,
     "metadata": {},
     "output_type": "execute_result"
    }
   ],
   "source": [
    "obj.access_number"
   ]
  },
  {
   "cell_type": "markdown",
   "id": "555caf02-ffe5-4fcb-b445-ad8777985f27",
   "metadata": {},
   "source": [
    "Q5.What is method overriding in python? Write a python code to demonstrate method overriding."
   ]
  },
  {
   "cell_type": "markdown",
   "id": "15fa6683-7ee6-4765-844c-830e95eb4e86",
   "metadata": {},
   "source": [
    "Method overriding is an ability of any object-oriented programming language that allows a subclass or child class to provide a specific implementation of a method that is already provided by one of its super-classes or parent classes. When a method in a subclass has the same name, same parameters or signature and same return type(or sub-type) as a method in its super-class, then the method in the subclass is said to override the method in the super-class."
   ]
  },
  {
   "cell_type": "code",
   "execution_count": 20,
   "id": "d132d5a3-d1d8-4593-90af-0e78b8cee6fb",
   "metadata": {},
   "outputs": [],
   "source": [
    "\n",
    "# Defining parent class\n",
    "class Parent():\n",
    "\t\n",
    "\t# Constructor\n",
    "\tdef __init__(self):\n",
    "\t\tself.value = \"Inside Parent\"\n",
    "\t\t\n",
    "\t# Parent's show method\n",
    "\tdef show(self):\n",
    "\t\tprint(self.value)\n",
    "\t\t\n",
    "# Defining child class\n",
    "class Child(Parent):\n",
    "\t\n",
    "\t# Constructor\n",
    "\tdef __init__(self):\n",
    "\t\tself.value = \"Inside Child\"\n",
    "\t\t\n",
    "\t# Child's show method\n",
    "\tdef show(self):\n",
    "\t\tprint(self.value)"
   ]
  },
  {
   "cell_type": "code",
   "execution_count": 21,
   "id": "4d0a6ee4-0805-4aaa-b58f-ea2cce5c44bf",
   "metadata": {},
   "outputs": [
    {
     "name": "stdout",
     "output_type": "stream",
     "text": [
      "Inside Parent\n",
      "Inside Child\n"
     ]
    }
   ],
   "source": [
    "obj1 = Parent()\n",
    "obj2 = Child()\n",
    "\n",
    "obj1.show()\n",
    "obj2.show()\n"
   ]
  },
  {
   "cell_type": "code",
   "execution_count": null,
   "id": "cfef6629-0b25-4444-88bc-6dd11c27577e",
   "metadata": {},
   "outputs": [],
   "source": []
  }
 ],
 "metadata": {
  "kernelspec": {
   "display_name": "Python 3 (ipykernel)",
   "language": "python",
   "name": "python3"
  },
  "language_info": {
   "codemirror_mode": {
    "name": "ipython",
    "version": 3
   },
   "file_extension": ".py",
   "mimetype": "text/x-python",
   "name": "python",
   "nbconvert_exporter": "python",
   "pygments_lexer": "ipython3",
   "version": "3.10.8"
  }
 },
 "nbformat": 4,
 "nbformat_minor": 5
}
